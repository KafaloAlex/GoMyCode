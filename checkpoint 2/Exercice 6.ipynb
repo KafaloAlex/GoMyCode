{
 "cells": [
  {
   "cell_type": "markdown",
   "id": "2ba3e9f6",
   "metadata": {},
   "source": [
    "# Exercice 6\n"
   ]
  },
  {
   "cell_type": "raw",
   "id": "ce8af3d1",
   "metadata": {},
   "source": [
    "Ecrivez un programme NumPy pour calculer la matrice de covariance de deux tableaux donnés."
   ]
  },
  {
   "cell_type": "code",
   "execution_count": 1,
   "id": "b78953ee",
   "metadata": {},
   "outputs": [],
   "source": [
    "import numpy as np"
   ]
  },
  {
   "cell_type": "code",
   "execution_count": 39,
   "id": "3db95a1f",
   "metadata": {},
   "outputs": [
    {
     "name": "stdout",
     "output_type": "stream",
     "text": [
      "[[ 1. -1.]\n",
      " [-1.  1.]]\n"
     ]
    }
   ],
   "source": [
    "def Covariance(matrix):\n",
    "    result = np.cov(matrix)\n",
    "    return print(result)\n",
    "\n",
    "m1 = np.array([[0, 1, 2], [2, 1, 0]])\n",
    "\n",
    "if(len(m1[0]) == len(m1[1])):\n",
    "    Covariance(m1)\n",
    "else:\n",
    "    print(\"Les deux tableaux doivent avoir la même dimension.\")"
   ]
  },
  {
   "cell_type": "code",
   "execution_count": null,
   "id": "318cb3bf",
   "metadata": {},
   "outputs": [],
   "source": []
  }
 ],
 "metadata": {
  "kernelspec": {
   "display_name": "Python 3",
   "language": "python",
   "name": "python3"
  },
  "language_info": {
   "codemirror_mode": {
    "name": "ipython",
    "version": 3
   },
   "file_extension": ".py",
   "mimetype": "text/x-python",
   "name": "python",
   "nbconvert_exporter": "python",
   "pygments_lexer": "ipython3",
   "version": "3.8.8"
  }
 },
 "nbformat": 4,
 "nbformat_minor": 5
}
