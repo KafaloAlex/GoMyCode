{
 "cells": [
  {
   "cell_type": "markdown",
   "id": "bc67a50a",
   "metadata": {},
   "source": [
    "# Exercice 3"
   ]
  },
  {
   "cell_type": "raw",
   "id": "05c90fb5",
   "metadata": {},
   "source": [
    "Avec un nombre entier donné n, écrivez un programme pour générer un dictionnaire qui contient (i, i*i) tel qu'il soit un nombre entier compris entre 1 et n (tous deux inclus). puis le programme devrait imprimer le dictionnaire. Supposons que l'entrée suivante soit fournie au programme : 8 Ensuite, la sortie devrait être : {1 : 1, 2 : 4, 3 : 9, 4 : 16, 5 : 25, 6 : 36, 7 : 49, 8 : 64 }"
   ]
  },
  {
   "cell_type": "code",
   "execution_count": 10,
   "id": "c09acabe",
   "metadata": {},
   "outputs": [
    {
     "name": "stdout",
     "output_type": "stream",
     "text": [
      "Entrez un nombre : 8\n",
      "{1: 1, 2: 4, 3: 9, 4: 16, 5: 25, 6: 36, 7: 49, 8: 64}\n"
     ]
    }
   ],
   "source": [
    "n = input('Entrez un nombre : ')\n",
    "nb = int(n)\n",
    "my_dict = {}\n",
    "\n",
    "if nb < 0:\n",
    "    print('Le nombre doit être positif')\n",
    "else:\n",
    "    for i in range(1, nb+1):\n",
    "       my_dict[i] = i*i \n",
    "print(my_dict)"
   ]
  },
  {
   "cell_type": "code",
   "execution_count": null,
   "id": "35790174",
   "metadata": {},
   "outputs": [],
   "source": []
  }
 ],
 "metadata": {
  "kernelspec": {
   "display_name": "Python 3",
   "language": "python",
   "name": "python3"
  },
  "language_info": {
   "codemirror_mode": {
    "name": "ipython",
    "version": 3
   },
   "file_extension": ".py",
   "mimetype": "text/x-python",
   "name": "python",
   "nbconvert_exporter": "python",
   "pygments_lexer": "ipython3",
   "version": "3.8.8"
  }
 },
 "nbformat": 4,
 "nbformat_minor": 5
}
