{
 "cells": [
  {
   "cell_type": "markdown",
   "id": "d261e616",
   "metadata": {},
   "source": [
    "# Exercice 7"
   ]
  },
  {
   "cell_type": "raw",
   "id": "51f27292",
   "metadata": {},
   "source": [
    "Écrivez un programme qui calcule et imprime la valeur selon la formule donnée : Q = racine carrée de [(2 * C * D)/H].\n",
    "Avec C = 50 et H = 30.\n",
    "D est une variable dont les valeurs doivent être entrées dans une séquence séparée par des virgules.\n",
    "Le résultat doit être arrondi à la valeur la plus proche."
   ]
  },
  {
   "cell_type": "code",
   "execution_count": 10,
   "id": "f3704b37",
   "metadata": {},
   "outputs": [],
   "source": [
    "import math"
   ]
  },
  {
   "cell_type": "code",
   "execution_count": 16,
   "id": "7502df8e",
   "metadata": {},
   "outputs": [
    {
     "name": "stdout",
     "output_type": "stream",
     "text": [
      "Entrez un suite de nombres séparés par des virgules : 100,150,180\n",
      "[18, 22, 24]\n"
     ]
    }
   ],
   "source": [
    "D = list(map(int, input(\"Entrez un suite de nombres séparés par des virgules : \").split(',')))\n",
    "C = 50\n",
    "H = 30\n",
    "result = []\n",
    "for i in range(0, len(D)):\n",
    "    Q = math.sqrt((2 * C * D[i])/H)\n",
    "    result.append(round(Q))\n",
    "\n",
    "print(result)"
   ]
  },
  {
   "cell_type": "code",
   "execution_count": null,
   "id": "240fc547",
   "metadata": {},
   "outputs": [],
   "source": []
  }
 ],
 "metadata": {
  "kernelspec": {
   "display_name": "Python 3",
   "language": "python",
   "name": "python3"
  },
  "language_info": {
   "codemirror_mode": {
    "name": "ipython",
    "version": 3
   },
   "file_extension": ".py",
   "mimetype": "text/x-python",
   "name": "python",
   "nbconvert_exporter": "python",
   "pygments_lexer": "ipython3",
   "version": "3.8.8"
  }
 },
 "nbformat": 4,
 "nbformat_minor": 5
}
