{
 "cells": [
  {
   "cell_type": "markdown",
   "id": "3b503339",
   "metadata": {},
   "source": [
    "# Exercice 6\n"
   ]
  },
  {
   "cell_type": "raw",
   "id": "3dac5b06",
   "metadata": {},
   "source": [
    "Ecrivez un programme NumPy pour calculer la matrice de covariance de deux tableaux donnés."
   ]
  },
  {
   "cell_type": "code",
   "execution_count": 1,
   "id": "fcb91ee3",
   "metadata": {},
   "outputs": [],
   "source": [
    "import numpy as np"
   ]
  },
  {
   "cell_type": "code",
   "execution_count": 35,
   "id": "0f50e6bf",
   "metadata": {},
   "outputs": [
    {
     "name": "stdout",
     "output_type": "stream",
     "text": [
      "Les deux tableaux doivent avoir la même dimension\n"
     ]
    },
    {
     "name": "stderr",
     "output_type": "stream",
     "text": [
      "<ipython-input-35-a8d44452c78b>:5: VisibleDeprecationWarning: Creating an ndarray from ragged nested sequences (which is a list-or-tuple of lists-or-tuples-or ndarrays with different lengths or shapes) is deprecated. If you meant to do this, you must specify 'dtype=object' when creating the ndarray.\n",
      "  m1 = np.array([[0, 1, 2, 3], [2, 1, 0]])\n"
     ]
    }
   ],
   "source": [
    "def Covariance(matrix):\n",
    "    result = np.cov(matrix)\n",
    "    return print(result)\n",
    "\n",
    "m1 = np.array([[0, 1, 2, 3], [2, 1, 0]])\n",
    "\n",
    "if(len(m1[0]) != len(m1[1])):\n",
    "    print(\"Les deux tableaux doivent avoir la même dimension\")\n",
    "else:\n",
    "    Covariance(m1)"
   ]
  },
  {
   "cell_type": "code",
   "execution_count": null,
   "id": "e4bbdc40",
   "metadata": {},
   "outputs": [],
   "source": []
  }
 ],
 "metadata": {
  "kernelspec": {
   "display_name": "Python 3",
   "language": "python",
   "name": "python3"
  },
  "language_info": {
   "codemirror_mode": {
    "name": "ipython",
    "version": 3
   },
   "file_extension": ".py",
   "mimetype": "text/x-python",
   "name": "python",
   "nbconvert_exporter": "python",
   "pygments_lexer": "ipython3",
   "version": "3.8.8"
  }
 },
 "nbformat": 4,
 "nbformat_minor": 5
}
