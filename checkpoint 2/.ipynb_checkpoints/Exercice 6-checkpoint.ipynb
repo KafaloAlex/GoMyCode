{
 "cells": [
  {
   "cell_type": "markdown",
   "id": "ef80ff0c",
   "metadata": {},
   "source": [
    "# Exercice 6\n"
   ]
  },
  {
   "cell_type": "raw",
   "id": "2316f67d",
   "metadata": {},
   "source": [
    "Ecrivez un programme NumPy pour calculer la matrice de covariance de deux tableaux donnés."
   ]
  },
  {
   "cell_type": "code",
   "execution_count": 1,
   "id": "1cf52cff",
   "metadata": {},
   "outputs": [],
   "source": [
    "import numpy as np"
   ]
  },
  {
   "cell_type": "code",
   "execution_count": 28,
   "id": "ea74aff0",
   "metadata": {},
   "outputs": [
    {
     "name": "stdout",
     "output_type": "stream",
     "text": [
      "[[ 1. -1.]\n",
      " [-1.  1.]]\n"
     ]
    }
   ],
   "source": [
    "m1 = np.array([[0, 1, 2], [2, 1, 0]])\n",
    "\n",
    "def Covariance(matrix):\n",
    "    result = np.cov(matrix)\n",
    "    return print(result)\n",
    "\n",
    "Covariance(m1)"
   ]
  },
  {
   "cell_type": "code",
   "execution_count": null,
   "id": "a22010d7",
   "metadata": {},
   "outputs": [],
   "source": []
  }
 ],
 "metadata": {
  "kernelspec": {
   "display_name": "Python 3",
   "language": "python",
   "name": "python3"
  },
  "language_info": {
   "codemirror_mode": {
    "name": "ipython",
    "version": 3
   },
   "file_extension": ".py",
   "mimetype": "text/x-python",
   "name": "python",
   "nbconvert_exporter": "python",
   "pygments_lexer": "ipython3",
   "version": "3.8.8"
  }
 },
 "nbformat": 4,
 "nbformat_minor": 5
}
