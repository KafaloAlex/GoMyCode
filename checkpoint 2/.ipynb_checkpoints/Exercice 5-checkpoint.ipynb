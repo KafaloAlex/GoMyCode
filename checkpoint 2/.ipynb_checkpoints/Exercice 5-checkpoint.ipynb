{
 "cells": [
  {
   "cell_type": "markdown",
   "id": "df8e0bc1",
   "metadata": {},
   "source": [
    "# Exercice 5\n"
   ]
  },
  {
   "cell_type": "raw",
   "id": "bcbbd7db",
   "metadata": {},
   "source": [
    "Ecrivez un programme NumPy pour convertir un tableau NumPy en une structure de liste Python."
   ]
  },
  {
   "cell_type": "code",
   "execution_count": 1,
   "id": "dd899f12",
   "metadata": {},
   "outputs": [],
   "source": [
    "import numpy as np"
   ]
  },
  {
   "cell_type": "code",
   "execution_count": 13,
   "id": "f6763093",
   "metadata": {},
   "outputs": [],
   "source": [
    "my_array = np.array([[1,2],[3,4],[5,6]])#Tableau numpy"
   ]
  },
  {
   "cell_type": "code",
   "execution_count": 12,
   "id": "1efe9259",
   "metadata": {},
   "outputs": [],
   "source": [
    "def Array_To_List(array):\n",
    "    return array.tolist()"
   ]
  },
  {
   "cell_type": "code",
   "execution_count": 17,
   "id": "8bbe8846",
   "metadata": {},
   "outputs": [],
   "source": [
    "my_list = Array_To_List(my_array)"
   ]
  },
  {
   "cell_type": "code",
   "execution_count": 20,
   "id": "6506c805",
   "metadata": {},
   "outputs": [
    {
     "name": "stdout",
     "output_type": "stream",
     "text": [
      "[[1, 2], [3, 4], [5, 6]]\n"
     ]
    }
   ],
   "source": [
    "print(my_list)"
   ]
  }
 ],
 "metadata": {
  "kernelspec": {
   "display_name": "Python 3",
   "language": "python",
   "name": "python3"
  },
  "language_info": {
   "codemirror_mode": {
    "name": "ipython",
    "version": 3
   },
   "file_extension": ".py",
   "mimetype": "text/x-python",
   "name": "python",
   "nbconvert_exporter": "python",
   "pygments_lexer": "ipython3",
   "version": "3.8.8"
  }
 },
 "nbformat": 4,
 "nbformat_minor": 5
}
