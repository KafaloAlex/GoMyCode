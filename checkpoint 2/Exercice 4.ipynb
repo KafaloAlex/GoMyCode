{
 "cells": [
  {
   "cell_type": "markdown",
   "id": "5c2f496b",
   "metadata": {},
   "source": [
    "# Exercice 4\n"
   ]
  },
  {
   "cell_type": "raw",
   "id": "1a77b17d",
   "metadata": {},
   "source": [
    "Soit une chaîne de caractère non vide et n un entier.\n",
    "Ecrivez une fonction qui renvoie une nouvelle chaîne de caractère où le caractère à l'indice n est supprimé.\n",
    "La valeur de n sera un index valide d'un caractère dans la chaîne d'origine (c'est-à-dire que n sera compris entre 0..len(str)-1 inclus).\n",
    "(i.e) missing_char('kitten', 1) → 'ktten' par exemple ici on supprime \"i\" qui se trouve dans l'index 1"
   ]
  },
  {
   "cell_type": "code",
   "execution_count": 29,
   "id": "bb30e7e5",
   "metadata": {},
   "outputs": [],
   "source": [
    "def missing_char(string, i):\n",
    "    index = int(i)\n",
    "    if(index < len(string)):\n",
    "        str_rm = string[0:index] + string[index+1:]\n",
    "        return str_rm\n",
    "    else:\n",
    "        return (\"Le numéro de votre index ne doit pas supérieur ou égal à la taille de la chaîne\")\n"
   ]
  },
  {
   "cell_type": "code",
   "execution_count": 26,
   "id": "31e05c07",
   "metadata": {},
   "outputs": [
    {
     "data": {
      "text/plain": [
       "'Le numéro de votre index ne doit pas supérieur ou égal à la taille de la chaîne'"
      ]
     },
     "execution_count": 26,
     "metadata": {},
     "output_type": "execute_result"
    }
   ],
   "source": [
    "missing_char(\"kitten\", 6)"
   ]
  },
  {
   "cell_type": "code",
   "execution_count": 28,
   "id": "8d8af68c",
   "metadata": {},
   "outputs": [
    {
     "data": {
      "text/plain": [
       "'itten'"
      ]
     },
     "execution_count": 28,
     "metadata": {},
     "output_type": "execute_result"
    }
   ],
   "source": [
    "missing_char(\"kitten\", 0)"
   ]
  },
  {
   "cell_type": "code",
   "execution_count": 30,
   "id": "97488880",
   "metadata": {},
   "outputs": [
    {
     "data": {
      "text/plain": [
       "'kiten'"
      ]
     },
     "execution_count": 30,
     "metadata": {},
     "output_type": "execute_result"
    }
   ],
   "source": [
    "missing_char(\"kitten\", '2')"
   ]
  }
 ],
 "metadata": {
  "kernelspec": {
   "display_name": "Python 3",
   "language": "python",
   "name": "python3"
  },
  "language_info": {
   "codemirror_mode": {
    "name": "ipython",
    "version": 3
   },
   "file_extension": ".py",
   "mimetype": "text/x-python",
   "name": "python",
   "nbconvert_exporter": "python",
   "pygments_lexer": "ipython3",
   "version": "3.8.8"
  }
 },
 "nbformat": 4,
 "nbformat_minor": 5
}
