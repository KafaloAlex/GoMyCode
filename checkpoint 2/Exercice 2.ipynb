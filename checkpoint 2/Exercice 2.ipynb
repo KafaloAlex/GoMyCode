{
 "cells": [
  {
   "cell_type": "markdown",
   "id": "e693ca96",
   "metadata": {},
   "source": [
    "# Exercice 2"
   ]
  },
  {
   "cell_type": "raw",
   "id": "7b9f052f",
   "metadata": {},
   "source": [
    "Écrivez un programme qui peut calculer la factorielle d'un nombre donné. (la factorielle de n est le produit de tous les entiers positifs inférieurs ou égaux à n). par exemple factoriel(5)= 5 x 4 x 3 x 2 x 1 le résultat est 120. (c'est-à-dire factoriel (0)=1)"
   ]
  },
  {
   "cell_type": "code",
   "execution_count": 9,
   "id": "a0e5b2fc",
   "metadata": {},
   "outputs": [
    {
     "name": "stdout",
     "output_type": "stream",
     "text": [
      "Le factoriel de 5 est 120\n"
     ]
    }
   ],
   "source": [
    "def factoriel(n):\n",
    "    f = 1\n",
    "    for i in range(2, n+1):\n",
    "        f = f*i\n",
    "    return print(f'Le factoriel de {n} est {f}')\n",
    "\n",
    "factoriel(5)"
   ]
  },
  {
   "cell_type": "code",
   "execution_count": null,
   "id": "53d692eb",
   "metadata": {},
   "outputs": [],
   "source": []
  }
 ],
 "metadata": {
  "kernelspec": {
   "display_name": "Python 3",
   "language": "python",
   "name": "python3"
  },
  "language_info": {
   "codemirror_mode": {
    "name": "ipython",
    "version": 3
   },
   "file_extension": ".py",
   "mimetype": "text/x-python",
   "name": "python",
   "nbconvert_exporter": "python",
   "pygments_lexer": "ipython3",
   "version": "3.8.8"
  }
 },
 "nbformat": 4,
 "nbformat_minor": 5
}
